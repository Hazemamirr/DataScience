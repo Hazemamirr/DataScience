{
  "metadata": {
    "kernelspec": {
      "name": "python",
      "display_name": "Python (Pyodide)",
      "language": "python"
    },
    "language_info": {
      "codemirror_mode": {
        "name": "python",
        "version": 3
      },
      "file_extension": ".py",
      "mimetype": "text/x-python",
      "name": "python",
      "nbconvert_exporter": "python",
      "pygments_lexer": "ipython3",
      "version": "3.8"
    }
  },
  "nbformat_minor": 5,
  "nbformat": 4,
  "cells": [
    {
      "id": "d03a0817-e217-41a8-ad87-36f4f56e5a87",
      "cell_type": "markdown",
      "source": "# Data Science Tools and Techniques",
      "metadata": {},
      "attachments": {}
    },
    {
      "id": "b9f3784c-577d-4b6e-ab7a-e61ea2c9be93",
      "cell_type": "markdown",
      "source": "## This notebook provides an overview of data science languages, libraries, tools, and basic arithmetic operations.",
      "metadata": {}
    },
    {
      "id": "89dfe7fd-f6f7-4f5d-b0a9-812af4549e1e",
      "cell_type": "markdown",
      "source": "- Python\n- R\n- SQL\n- Julia",
      "metadata": {}
    },
    {
      "id": "672c4eda-57a0-4924-8b43-2d0697c96e85",
      "cell_type": "markdown",
      "source": "- Pandas\n- NumPy\n- Scikit-learn\n- TensorFlow\n- ggplot2",
      "metadata": {}
    },
    {
      "id": "12d96381-a869-433b-bbba-a0be968aff25",
      "cell_type": "markdown",
      "source": "| Tool          | Purpose                          |\n|---------------|----------------------------------|\n| Jupyter       | Interactive coding and analysis |\n| RStudio       | R development environment        |\n| Apache Spark  | Big data processing              |\n| Tableau       | Data visualization               |",
      "metadata": {}
    },
    {
      "id": "95a5aed5-6dd4-46de-8479-081ca49a7166",
      "cell_type": "markdown",
      "source": "Below are examples of arithmetic expressions in Python.",
      "metadata": {}
    },
    {
      "id": "45531cea-4aa1-4b0d-ba9d-332beb25f51b",
      "cell_type": "code",
      "source": "# Multiply and add numbers\nresult = (3 * 4) + 5\nprint(result)",
      "metadata": {
        "trusted": true
      },
      "outputs": [
        {
          "name": "stdout",
          "output_type": "stream",
          "text": "17\n"
        }
      ],
      "execution_count": 7
    },
    {
      "id": "721149e5-c95b-4718-8a84-274062dbeda6",
      "cell_type": "code",
      "source": "# Convert minutes to hours\nminutes = 120\nhours = minutes / 60\nprint(hours)",
      "metadata": {
        "trusted": true
      },
      "outputs": [
        {
          "name": "stdout",
          "output_type": "stream",
          "text": "2.0\n"
        }
      ],
      "execution_count": 8
    },
    {
      "id": "f2ceef2e-0977-448f-a248-28f3512e74cc",
      "cell_type": "markdown",
      "source": "- List popular data science languages.\n- List popular data science libraries.\n- Create a table of data science tools.\n- Demonstrate basic arithmetic operations in Python.",
      "metadata": {}
    },
    {
      "id": "e2fdb51c-0ed9-490f-b50e-6cfd3d201c4b",
      "cell_type": "markdown",
      "source": "**Author:** Hazem Amir",
      "metadata": {}
    }
  ]
}